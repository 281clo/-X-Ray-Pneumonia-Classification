{
 "cells": [
  {
   "cell_type": "code",
   "execution_count": 2,
   "metadata": {},
   "outputs": [],
   "source": [
    "#imports\n",
    "from sklearn.linear_model import LogisticRegression\n",
    "import numpy as np \n",
    "import pandas as pd\n",
    "import matplotlib.pyplot as plt\n",
    "import os \n",
    "import cv2\n",
    "from random import shuffle \n",
    "from tqdm import tqdm \n",
    "from PIL import Image\n",
    "import warnings\n",
    "warnings.filterwarnings('ignore')"
   ]
  },
  {
   "cell_type": "code",
   "execution_count": null,
   "metadata": {},
   "outputs": [],
   "source": [
    "!/Library/Frameworks/Python.framework/Versions/3.9/bin/python3.9 -m pip install opencv-python"
   ]
  },
  {
   "cell_type": "code",
   "execution_count": 3,
   "metadata": {},
   "outputs": [],
   "source": [
    "#creating templates of my data path for easy use\n",
    "normal_test = '\\data\\\\chest_xray\\\\test\\\\NORMAL'\n",
    "infected_test = '\\data\\\\chest_xray\\\\test\\\\PNEUMONIA'\n",
    "normal_train = '\\data\\\\chest_xray\\\\train\\\\NORMAL'\n",
    "infected_train = '\\data\\\\chest_xray\\\\train\\\\PNEUMONIA'"
   ]
  },
  {
   "cell_type": "code",
   "execution_count": 8,
   "metadata": {},
   "outputs": [
    {
     "ename": "FileNotFoundError",
     "evalue": "[Errno 2] No such file or directory: 'data\\\\chest_xray\\\\train\\\\NORMAL\\\\IM-0115-0001.jpeg'",
     "output_type": "error",
     "traceback": [
      "\u001b[0;31m---------------------------------------------------------------------------\u001b[0m",
      "\u001b[0;31mFileNotFoundError\u001b[0m                         Traceback (most recent call last)",
      "\u001b[0;32m<ipython-input-8-5d0ba17711bb>\u001b[0m in \u001b[0;36m<module>\u001b[0;34m\u001b[0m\n\u001b[1;32m      1\u001b[0m \u001b[0;31m#Testing File path\u001b[0m\u001b[0;34m\u001b[0m\u001b[0;34m\u001b[0m\u001b[0;34m\u001b[0m\u001b[0m\n\u001b[0;32m----> 2\u001b[0;31m \u001b[0mImage\u001b[0m\u001b[0;34m.\u001b[0m\u001b[0mopen\u001b[0m\u001b[0;34m(\u001b[0m\u001b[0;34m'data\\\\chest_xray\\\\train\\\\NORMAL\\\\IM-0115-0001.jpeg'\u001b[0m\u001b[0;34m)\u001b[0m\u001b[0;34m\u001b[0m\u001b[0;34m\u001b[0m\u001b[0m\n\u001b[0m",
      "\u001b[0;32m/Library/Frameworks/Python.framework/Versions/3.9/lib/python3.9/site-packages/PIL/Image.py\u001b[0m in \u001b[0;36mopen\u001b[0;34m(fp, mode, formats)\u001b[0m\n\u001b[1;32m   2966\u001b[0m \u001b[0;34m\u001b[0m\u001b[0m\n\u001b[1;32m   2967\u001b[0m     \u001b[0;32mif\u001b[0m \u001b[0mfilename\u001b[0m\u001b[0;34m:\u001b[0m\u001b[0;34m\u001b[0m\u001b[0;34m\u001b[0m\u001b[0m\n\u001b[0;32m-> 2968\u001b[0;31m         \u001b[0mfp\u001b[0m \u001b[0;34m=\u001b[0m \u001b[0mbuiltins\u001b[0m\u001b[0;34m.\u001b[0m\u001b[0mopen\u001b[0m\u001b[0;34m(\u001b[0m\u001b[0mfilename\u001b[0m\u001b[0;34m,\u001b[0m \u001b[0;34m\"rb\"\u001b[0m\u001b[0;34m)\u001b[0m\u001b[0;34m\u001b[0m\u001b[0;34m\u001b[0m\u001b[0m\n\u001b[0m\u001b[1;32m   2969\u001b[0m         \u001b[0mexclusive_fp\u001b[0m \u001b[0;34m=\u001b[0m \u001b[0;32mTrue\u001b[0m\u001b[0;34m\u001b[0m\u001b[0;34m\u001b[0m\u001b[0m\n\u001b[1;32m   2970\u001b[0m \u001b[0;34m\u001b[0m\u001b[0m\n",
      "\u001b[0;31mFileNotFoundError\u001b[0m: [Errno 2] No such file or directory: 'data\\\\chest_xray\\\\train\\\\NORMAL\\\\IM-0115-0001.jpeg'"
     ]
    }
   ],
   "source": [
    "#Testing File path\n",
    "Image.open('data\\\\chest_xray\\\\train\\\\NORMAL\\\\IM-0115-0001.jpeg')"
   ]
  },
  {
   "cell_type": "code",
   "execution_count": 9,
   "metadata": {},
   "outputs": [],
   "source": [
    "def train_data():\n",
    "    train_data_normal = [] \n",
    "    train_data_infected = []\n",
    "    width = 400\n",
    "    height = 400\n",
    "    for image in tqdm(os.listdir(normal_train)): \n",
    "        path = os.path.join(normal_train, image) #Adds the images file name to the file path string\n",
    "        img1 = cv2.imread(path, cv2.IMREAD_GRAYSCALE) #Loads and grayscales the image\n",
    "        img1 = cv2.resize(img1, (width, height)) #Making all images the same size \n",
    "        train_data_normal.append(img1) #adding the array to a list of image arrays\n",
    "    for image2 in tqdm(os.listdir(infected_train)): #same shit but for the infected train set\n",
    "        path = os.path.join(infected_train, image2)\n",
    "        img2 = cv2.imread(path, cv2.IMREAD_GRAYSCALE) \n",
    "        img2 = cv2.resize(img2, (width, height))\n",
    "        train_data_infected.append(img2)\n",
    "    #Combing the lists and making all the images arrays    \n",
    "    train_data_normal = np.asarray(train_data_normal)\n",
    "    train_data_infected = np.asarray(train_data_infected)\n",
    "    return train_data_normal, train_data_infected"
   ]
  },
  {
   "cell_type": "code",
   "execution_count": null,
   "metadata": {},
   "outputs": [],
   "source": [
    "# Same idea here but for the test\n",
    "\n",
    "def test_data():\n",
    "    test_data_normal = [] \n",
    "    test_data_infected = []\n",
    "    width = 400\n",
    "    height = 400\n",
    "    for image1 in tqdm(os.listdir(normal_test)): \n",
    "        path = os.path.join(normal_test, image1)\n",
    "        img1 = cv2.imread(path, cv2.IMREAD_GRAYSCALE) \n",
    "        img1 = cv2.resize(img1,(width, height))\n",
    "        test_data_normal.append(img1) \n",
    "    for image2 in tqdm(os.listdir(infected_test)): \n",
    "        path = os.path.join(infected_test, image2)\n",
    "        img2 = cv2.imread(path, cv2.IMREAD_GRAYSCALE) \n",
    "        img2 = cv2.resize(img2, (width, height))\n",
    "        test_data_infected.append(img2) \n",
    "    \n",
    "    test_data_normal = np.asarray(test_data_normal)\n",
    "    test_data_infected = np.asarray(test_data_infected)\n",
    "    return test_data_normal, test_data_infected "
   ]
  },
  {
   "cell_type": "code",
   "execution_count": null,
   "metadata": {},
   "outputs": [],
   "source": [
    "train_data = train_data() # Running the functions\n",
    "test_data = test_data()\n",
    "X_train = train_data[0]\n",
    "X_test = test_data[0]\n",
    "y_train = train_data[1]\n",
    "y_test = test_data[1]"
   ]
  },
  {
   "cell_type": "code",
   "execution_count": null,
   "metadata": {},
   "outputs": [],
   "source": [
    "X_train"
   ]
  },
  {
   "cell_type": "code",
   "execution_count": null,
   "metadata": {},
   "outputs": [],
   "source": [
    "# for the sake or running the model, we need each image paired with ones and zeros for positive and negative\n",
    "\n",
    "#refferencing the length of each set\n",
    "\n",
    "print(len(y_train))\n",
    "print(len(y_test))\n",
    "print(len(X_test))\n",
    "print(len(X_train))"
   ]
  },
  {
   "cell_type": "code",
   "execution_count": null,
   "metadata": {},
   "outputs": [],
   "source": [
    "#creating the list of numbers to pair with the images\n",
    "y_train_ones = np.ones(3876)\n",
    "y_test_ones = np.ones(390)\n",
    "X_train_zeros = np.zeros(1342)\n",
    "X_test_zeros = np.zeros(234)\n",
    "len(y_test_ones)"
   ]
  },
  {
   "cell_type": "code",
   "execution_count": null,
   "metadata": {},
   "outputs": [],
   "source": [
    "X_train = pd.DataFrame(train_data[0])#X_train_zeros)\n",
    "X_test = pd.DataFrame(test_data[0])#X_test_zeros)\n",
    "y_train = pd.DataFrame(train_data[1])# y_train_ones)\n",
    "y_test = pd.DataFrame(test_data[1])# y_test_ones)"
   ]
  },
  {
   "cell_type": "code",
   "execution_count": null,
   "metadata": {},
   "outputs": [],
   "source": [
    "X_train.rename(columns = {0:'Image'}, inplace = True)\n",
    "X_test.rename(columns = {0:'Image'}, inplace = True)\n",
    "y_train.rename(columns = {0:'Image'}, inplace = True)\n",
    "y_test.rename(columns = {0:'Image'}, inplace = True)"
   ]
  },
  {
   "cell_type": "code",
   "execution_count": null,
   "metadata": {},
   "outputs": [],
   "source": [
    "y_test['pneumonia'] = y_test_ones\n",
    "y_train['pneumonia'] = y_train_ones\n",
    "X_test['pneumonia'] = X_test_zeros\n",
    "X_train['pneumonia'] = X_train_zeros"
   ]
  },
  {
   "cell_type": "code",
   "execution_count": null,
   "metadata": {},
   "outputs": [],
   "source": [
    "y_test"
   ]
  },
  {
   "cell_type": "code",
   "execution_count": null,
   "metadata": {},
   "outputs": [],
   "source": [
    "#Fit still isn't fitting, and I figured out why. while we needed the pneumonia coloumn added to each data set this changes\n",
    "# how we need to structure our data. So I'm recombining all the data, then splitting off the pneumonia coloumn as the y data\n",
    "frames = [y_test,y_train,X_test,X_train]\n",
    "df = pd.concat(frames)\n",
    "len(df)"
   ]
  },
  {
   "cell_type": "code",
   "execution_count": null,
   "metadata": {},
   "outputs": [],
   "source": [
    "from sklearn.model_selection import train_test_split\n",
    "X = df.drop('pneumonia',axis=1)\n",
    "y = df['pneumonia']\n",
    "X_train, X_test, y_train, y_test = train_test_split(X, y, test_size=0.25, random_state=77)"
   ]
  },
  {
   "cell_type": "code",
   "execution_count": null,
   "metadata": {},
   "outputs": [],
   "source": [
    "X[:1]"
   ]
  },
  {
   "cell_type": "code",
   "execution_count": null,
   "metadata": {},
   "outputs": [],
   "source": [
    "baseline_log = LogisticRegression(penalty='l1')\n"
   ]
  },
  {
   "cell_type": "code",
   "execution_count": null,
   "metadata": {},
   "outputs": [],
   "source": []
  }
 ],
 "metadata": {
  "kernelspec": {
   "display_name": "Python 3",
   "language": "python",
   "name": "python3"
  },
  "language_info": {
   "codemirror_mode": {
    "name": "ipython",
    "version": 3
   },
   "file_extension": ".py",
   "mimetype": "text/x-python",
   "name": "python",
   "nbconvert_exporter": "python",
   "pygments_lexer": "ipython3",
   "version": "3.9.2"
  }
 },
 "nbformat": 4,
 "nbformat_minor": 4
}
