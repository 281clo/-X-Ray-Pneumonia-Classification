{
 "cells": [
  {
   "cell_type": "code",
   "execution_count": null,
   "id": "figured-master",
   "metadata": {},
   "outputs": [],
   "source": [
    "import pandas as pd\n",
    "import os\n",
    "from keras.preprocessing.image import ImageDataGenerator, array_to_img, img_to_array, load_img"
   ]
  },
  {
   "cell_type": "code",
   "execution_count": null,
   "id": "champion-installation",
   "metadata": {},
   "outputs": [],
   "source": [
    "path = 'data/chest_xray/chest_xray/test/NORMAL/'\n",
    "testchestnorm = [file for file in os.listdir(path) if file.endswith(\".jpeg\")]\n",
    "path = 'data/chest_xray/chest_xray/test/PNEUMONIA/'\n",
    "testchestPH = [file for file in os.listdir(path) if file.endswith(\".jpeg\")]"
   ]
  },
  {
   "cell_type": "code",
   "execution_count": null,
   "id": "numerical-lying",
   "metadata": {},
   "outputs": [],
   "source": [
    "testchestPH"
   ]
  },
  {
   "cell_type": "code",
   "execution_count": null,
   "id": "functional-badge",
   "metadata": {},
   "outputs": [],
   "source": []
  }
 ],
 "metadata": {
  "kernelspec": {
   "display_name": "Python 3",
   "language": "python",
   "name": "python3"
  },
  "language_info": {
   "codemirror_mode": {
    "name": "ipython",
    "version": 3
   },
   "file_extension": ".py",
   "mimetype": "text/x-python",
   "name": "python",
   "nbconvert_exporter": "python",
   "pygments_lexer": "ipython3",
   "version": "3.9.2"
  }
 },
 "nbformat": 4,
 "nbformat_minor": 5
}
